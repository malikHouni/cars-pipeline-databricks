{
 "cells": [
  {
   "cell_type": "code",
   "execution_count": 0,
   "metadata": {
    "application/vnd.databricks.v1+cell": {
     "cellMetadata": {
      "byteLimit": 2048000,
      "rowLimit": 10000
     },
     "inputWidgets": {},
     "nuid": "fbdd85f6-b518-40dc-a9f1-346cb6d4c107",
     "showTitle": false,
     "tableResultSettingsMap": {},
     "title": ""
    }
   },
   "outputs": [
    {
     "output_type": "display_data",
     "data": {
      "text/html": [
       "<style scoped>\n",
       "  .table-result-container {\n",
       "    max-height: 300px;\n",
       "    overflow: auto;\n",
       "  }\n",
       "  table, th, td {\n",
       "    border: 1px solid black;\n",
       "    border-collapse: collapse;\n",
       "  }\n",
       "  th, td {\n",
       "    padding: 5px;\n",
       "  }\n",
       "  th {\n",
       "    text-align: left;\n",
       "  }\n",
       "</style><div class='table-result-container'><table class='table-result'><thead style='background-color: white'><tr><th>Model</th><th>avg_price</th></tr></thead><tbody><tr><td>mercedes</td><td>376238.63157894736</td></tr><tr><td>peugeot</td><td>403979.31944444444</td></tr><tr><td>citroen</td><td>414316.9034090909</td></tr><tr><td>audi</td><td>407596.87078651687</td></tr><tr><td>alpine</td><td>414247.6630434783</td></tr><tr><td>fiat</td><td>383569.72340425535</td></tr><tr><td>renault</td><td>377536.95049504953</td></tr><tr><td>nissan</td><td>435902.8108108108</td></tr></tbody></table></div>"
      ]
     },
     "metadata": {
      "application/vnd.databricks.v1+output": {
       "addedWidgets": {},
       "aggData": [],
       "aggError": "",
       "aggOverflow": false,
       "aggSchema": [],
       "aggSeriesLimitReached": false,
       "aggType": "",
       "arguments": {},
       "columnCustomDisplayInfos": {},
       "data": [
        [
         "mercedes",
         376238.63157894736
        ],
        [
         "peugeot",
         403979.31944444444
        ],
        [
         "citroen",
         414316.9034090909
        ],
        [
         "audi",
         407596.87078651687
        ],
        [
         "alpine",
         414247.6630434783
        ],
        [
         "fiat",
         383569.72340425535
        ],
        [
         "renault",
         377536.95049504953
        ],
        [
         "nissan",
         435902.8108108108
        ]
       ],
       "datasetInfos": [],
       "dbfsResultPath": null,
       "isJsonSchema": true,
       "metadata": {},
       "overflow": false,
       "plotOptions": {
        "customPlotOptions": {},
        "displayType": "table",
        "pivotAggregation": null,
        "pivotColumns": null,
        "xColumns": null,
        "yColumns": null
       },
       "removedWidgets": [],
       "schema": [
        {
         "metadata": "{}",
         "name": "Model",
         "type": "\"string\""
        },
        {
         "metadata": "{}",
         "name": "avg_price",
         "type": "\"double\""
        }
       ],
       "type": "table"
      }
     },
     "output_type": "display_data"
    },
    {
     "output_type": "display_data",
     "data": {
      "text/html": [
       "<style scoped>\n",
       "  .table-result-container {\n",
       "    max-height: 300px;\n",
       "    overflow: auto;\n",
       "  }\n",
       "  table, th, td {\n",
       "    border: 1px solid black;\n",
       "    border-collapse: collapse;\n",
       "  }\n",
       "  th, td {\n",
       "    padding: 5px;\n",
       "  }\n",
       "  th {\n",
       "    text-align: left;\n",
       "  }\n",
       "</style><div class='table-result-container'><table class='table-result'><thead style='background-color: white'><tr><th>Region</th><th>nb_voitures</th></tr></thead><tbody><tr><td>Bourgogne-Franche-Comté</td><td>123</td></tr><tr><td>Centre-Val de Loire</td><td>146</td></tr><tr><td>Auvergne-Rhône-Alpes</td><td>138</td></tr><tr><td>Hauts-de-France</td><td>143</td></tr><tr><td>Corse</td><td>135</td></tr><tr><td>Île-de-France</td><td>142</td></tr><tr><td>Guadeloupe</td><td>137</td></tr><tr><td>Mayotte</td><td>141</td></tr><tr><td>Normandie</td><td>144</td></tr><tr><td>La Réunion</td><td>119</td></tr><tr><td>Provence-Alpes-Côte d'Azur</td><td>132</td></tr></tbody></table></div>"
      ]
     },
     "metadata": {
      "application/vnd.databricks.v1+output": {
       "addedWidgets": {},
       "aggData": [],
       "aggError": "",
       "aggOverflow": false,
       "aggSchema": [],
       "aggSeriesLimitReached": false,
       "aggType": "",
       "arguments": {},
       "columnCustomDisplayInfos": {},
       "data": [
        [
         "Bourgogne-Franche-Comté",
         123
        ],
        [
         "Centre-Val de Loire",
         146
        ],
        [
         "Auvergne-Rhône-Alpes",
         138
        ],
        [
         "Hauts-de-France",
         143
        ],
        [
         "Corse",
         135
        ],
        [
         "Île-de-France",
         142
        ],
        [
         "Guadeloupe",
         137
        ],
        [
         "Mayotte",
         141
        ],
        [
         "Normandie",
         144
        ],
        [
         "La Réunion",
         119
        ],
        [
         "Provence-Alpes-Côte d'Azur",
         132
        ]
       ],
       "datasetInfos": [],
       "dbfsResultPath": null,
       "isJsonSchema": true,
       "metadata": {},
       "overflow": false,
       "plotOptions": {
        "customPlotOptions": {},
        "displayType": "table",
        "pivotAggregation": null,
        "pivotColumns": null,
        "xColumns": null,
        "yColumns": null
       },
       "removedWidgets": [],
       "schema": [
        {
         "metadata": "{}",
         "name": "Region",
         "type": "\"string\""
        },
        {
         "metadata": "{}",
         "name": "nb_voitures",
         "type": "\"long\""
        }
       ],
       "type": "table"
      }
     },
     "output_type": "display_data"
    },
    {
     "output_type": "display_data",
     "data": {
      "text/html": [
       "<style scoped>\n",
       "  .table-result-container {\n",
       "    max-height: 300px;\n",
       "    overflow: auto;\n",
       "  }\n",
       "  table, th, td {\n",
       "    border: 1px solid black;\n",
       "    border-collapse: collapse;\n",
       "  }\n",
       "  th, td {\n",
       "    padding: 5px;\n",
       "  }\n",
       "  th {\n",
       "    text-align: left;\n",
       "  }\n",
       "</style><div class='table-result-container'><table class='table-result'><thead style='background-color: white'><tr><th>prix_max</th><th>prix_min</th></tr></thead><tbody><tr><td>799041</td><td>10792</td></tr></tbody></table></div>"
      ]
     },
     "metadata": {
      "application/vnd.databricks.v1+output": {
       "addedWidgets": {},
       "aggData": [],
       "aggError": "",
       "aggOverflow": false,
       "aggSchema": [],
       "aggSeriesLimitReached": false,
       "aggType": "",
       "arguments": {},
       "columnCustomDisplayInfos": {},
       "data": [
        [
         799041,
         10792
        ]
       ],
       "datasetInfos": [],
       "dbfsResultPath": null,
       "isJsonSchema": true,
       "metadata": {},
       "overflow": false,
       "plotOptions": {
        "customPlotOptions": {},
        "displayType": "table",
        "pivotAggregation": null,
        "pivotColumns": null,
        "xColumns": null,
        "yColumns": null
       },
       "removedWidgets": [],
       "schema": [
        {
         "metadata": "{}",
         "name": "prix_max",
         "type": "\"long\""
        },
        {
         "metadata": "{}",
         "name": "prix_min",
         "type": "\"long\""
        }
       ],
       "type": "table"
      }
     },
     "output_type": "display_data"
    }
   ],
   "source": [
    "df_silver=spark.read.option(\"multiline\",True).format('delta').load(\"/FileStore/tables/df_silver\")\n",
    "from pyspark.sql.functions import avg, count, max, min\n",
    "\n",
    "# Prix moyen par marque\n",
    "df_avg_price = df_silver.groupBy(\"Model\").agg(avg(\"Price\").alias(\"avg_price\"))\n",
    "df_avg_price.display()\n",
    "\n",
    "# Nombre d’annonces par ville\n",
    "df_city_count = df_silver.groupBy(\"Region\").agg(count(\"*\").alias(\"nb_voitures\"))\n",
    "df_city_count.display()\n",
    "\n",
    "# Prix max / min\n",
    "df_silver.select(max(\"Price\").alias(\"prix_max\"), min(\"Price\").alias(\"prix_min\")).display()\n",
    "\n",
    "df_avg_price.write.mode('overwrite').format('delta').save(\"/FileStore/tables/delta_avgPrice_gold\")\n",
    "\n",
    "df_avg_price.createOrReplaceTempView('viewAvgPrice')\n",
    "\n"
   ]
  },
  {
   "cell_type": "code",
   "execution_count": 0,
   "metadata": {
    "application/vnd.databricks.v1+cell": {
     "cellMetadata": {
      "byteLimit": 2048000,
      "implicitDf": true,
      "rowLimit": 10000
     },
     "inputWidgets": {},
     "nuid": "6efe4663-0cf1-4472-ac30-009e8fc8747f",
     "showTitle": false,
     "tableResultSettingsMap": {},
     "title": ""
    }
   },
   "outputs": [
    {
     "output_type": "display_data",
     "data": {
      "text/html": [
       "<style scoped>\n",
       "  .table-result-container {\n",
       "    max-height: 300px;\n",
       "    overflow: auto;\n",
       "  }\n",
       "  table, th, td {\n",
       "    border: 1px solid black;\n",
       "    border-collapse: collapse;\n",
       "  }\n",
       "  th, td {\n",
       "    padding: 5px;\n",
       "  }\n",
       "  th {\n",
       "    text-align: left;\n",
       "  }\n",
       "</style><div class='table-result-container'><table class='table-result'><thead style='background-color: white'><tr><th>Model</th><th>avg_price</th></tr></thead><tbody><tr><td>mercedes</td><td>376238.63157894736</td></tr><tr><td>peugeot</td><td>403979.31944444444</td></tr><tr><td>citroen</td><td>414316.9034090909</td></tr><tr><td>audi</td><td>407596.87078651687</td></tr><tr><td>alpine</td><td>414247.6630434783</td></tr><tr><td>fiat</td><td>383569.72340425535</td></tr><tr><td>renault</td><td>377536.95049504953</td></tr><tr><td>nissan</td><td>435902.8108108108</td></tr></tbody></table></div>"
      ]
     },
     "metadata": {
      "application/vnd.databricks.v1+output": {
       "addedWidgets": {},
       "aggData": [],
       "aggError": "",
       "aggOverflow": false,
       "aggSchema": [],
       "aggSeriesLimitReached": false,
       "aggType": "",
       "arguments": {},
       "columnCustomDisplayInfos": {},
       "data": [
        [
         "mercedes",
         376238.63157894736
        ],
        [
         "peugeot",
         403979.31944444444
        ],
        [
         "citroen",
         414316.9034090909
        ],
        [
         "audi",
         407596.87078651687
        ],
        [
         "alpine",
         414247.6630434783
        ],
        [
         "fiat",
         383569.72340425535
        ],
        [
         "renault",
         377536.95049504953
        ],
        [
         "nissan",
         435902.8108108108
        ]
       ],
       "datasetInfos": [],
       "dbfsResultPath": null,
       "isJsonSchema": true,
       "metadata": {},
       "overflow": false,
       "plotOptions": {
        "customPlotOptions": {},
        "displayType": "table",
        "pivotAggregation": null,
        "pivotColumns": null,
        "xColumns": null,
        "yColumns": null
       },
       "removedWidgets": [],
       "schema": [
        {
         "metadata": "{}",
         "name": "Model",
         "type": "\"string\""
        },
        {
         "metadata": "{}",
         "name": "avg_price",
         "type": "\"double\""
        }
       ],
       "type": "table"
      }
     },
     "output_type": "display_data"
    }
   ],
   "source": [
    "%sql\n",
    "\n",
    "select * from viewAvgPrice"
   ]
  },
  {
   "cell_type": "code",
   "execution_count": 0,
   "metadata": {
    "application/vnd.databricks.v1+cell": {
     "cellMetadata": {},
     "inputWidgets": {},
     "nuid": "12847e21-c923-42df-a19e-08e188135d70",
     "showTitle": false,
     "tableResultSettingsMap": {},
     "title": ""
    }
   },
   "outputs": [],
   "source": []
  }
 ],
 "metadata": {
  "application/vnd.databricks.v1+notebook": {
   "computePreferences": null,
   "dashboards": [],
   "environmentMetadata": {
    "base_environment": "",
    "environment_version": "1"
   },
   "inputWidgetPreferences": null,
   "language": "python",
   "notebookMetadata": {
    "mostRecentlyExecutedCommandWithImplicitDF": {
     "commandId": 562566365202729,
     "dataframes": [
      "_sqldf"
     ]
    },
    "pythonIndentUnit": 4
   },
   "notebookName": "03_gold_analysis",
   "widgets": {}
  }
 },
 "nbformat": 4,
 "nbformat_minor": 0
}