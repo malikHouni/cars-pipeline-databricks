{
 "cells": [
  {
   "cell_type": "code",
   "execution_count": 0,
   "metadata": {
    "application/vnd.databricks.v1+cell": {
     "cellMetadata": {
      "byteLimit": 2048000,
      "rowLimit": 10000
     },
     "inputWidgets": {},
     "nuid": "7e4617da-67aa-468b-824d-50ec5461d7c9",
     "showTitle": false,
     "tableResultSettingsMap": {},
     "title": ""
    }
   },
   "outputs": [
    {
     "output_type": "stream",
     "name": "stdout",
     "output_type": "stream",
     "text": [
      "+------+-----+----------+--------+------+--------------------+\n|  Fuel|Index|Kilometers|   Model| Price|              Region|\n+------+-----+----------+--------+------+--------------------+\n|diesel| 1200|     65682|  nissan|362032|          La Réunion|\n|  sp95| 1201|     49309|    audi|325791|Bourgogne-Franche...|\n|  elec| 1202|    192519|    audi|733536|           Normandie|\n|  sp95| 1203|     56420|    audi|632401|       Île-de-France|\n|  elec| 1204|     81400|mercedes| 23351|     Hauts-de-France|\n+------+-----+----------+--------+------+--------------------+\nonly showing top 5 rows\n\n+-------+------+------------------+------------------+-------+------------------+--------------------+\n|summary|  Fuel|             Index|        Kilometers|  Model|             Price|              Region|\n+-------+------+------------------+------------------+-------+------------------+--------------------+\n|  count|  1500|              1500|              1500|   1500|              1500|                1500|\n|   mean|  null|             749.5|196696.96466666667|   null|401537.01266666665|                null|\n| stddev|  null|433.15701541127095|116570.95600804902|   null| 226003.5709245105|                null|\n|    min|diesel|                 0|               412| alpine|             10792|Auvergne-Rhône-Alpes|\n|    max|  sp95|              1499|            399902|renault|            799041|       Île-de-France|\n+-------+------+------------------+------------------+-------+------------------+--------------------+\n\n"
     ]
    }
   ],
   "source": [
    "df1 = spark.read.option(\"multiline\", True).json(\"dbfs:/FileStore/tables/UsedCarData/*.json\")\n",
    "df1.show(5)\n",
    "\n",
    "from pyspark.sql.functions import *\n",
    "\n",
    "df1.describe(df1.columns).show()"
   ]
  },
  {
   "cell_type": "code",
   "execution_count": 0,
   "metadata": {
    "application/vnd.databricks.v1+cell": {
     "cellMetadata": {},
     "inputWidgets": {},
     "nuid": "cd0792fc-0ff4-43b6-a055-ffd110332a5e",
     "showTitle": false,
     "tableResultSettingsMap": {},
     "title": ""
    }
   },
   "outputs": [],
   "source": []
  }
 ],
 "metadata": {
  "application/vnd.databricks.v1+notebook": {
   "computePreferences": null,
   "dashboards": [],
   "environmentMetadata": {
    "base_environment": "",
    "environment_version": "1"
   },
   "inputWidgetPreferences": null,
   "language": "python",
   "notebookMetadata": {
    "pythonIndentUnit": 4
   },
   "notebookName": "01_bronze_ingestion",
   "widgets": {}
  }
 },
 "nbformat": 4,
 "nbformat_minor": 0
}